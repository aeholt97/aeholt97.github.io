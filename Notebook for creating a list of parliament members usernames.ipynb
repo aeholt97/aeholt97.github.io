{
 "cells": [
  {
   "cell_type": "markdown",
   "id": "employed-luther",
   "metadata": {},
   "source": [
    "# Notebook for collecting a list of Danish Parliament members Twitter usernames\n",
    "### Anton Elias Holt - exam in Computational linguistics at Aarhus University, spring 2021"
   ]
  },
  {
   "cell_type": "code",
   "execution_count": 1,
   "id": "chinese-gross",
   "metadata": {},
   "outputs": [],
   "source": [
    "import codecs\n",
    "import pandas as pd"
   ]
  },
  {
   "cell_type": "code",
   "execution_count": 2,
   "id": "refined-douglas",
   "metadata": {},
   "outputs": [
    {
     "data": {
      "text/plain": [
       "['Abildgaard, Mette (KF)\\r\\n',\n",
       " 'Adsbøl, Karina (DF)\\r\\n',\n",
       " 'Ahlers, Tommy (V)\\r\\n',\n",
       " 'Ahrendtsen, Alex (DF)\\r\\n',\n",
       " 'Ambo-Rasmussen, Marlene (V)\\r\\n',\n",
       " 'Ammitzbøll, Katarina (KF)\\r\\n',\n",
       " 'Ammitzbøll-Bille, Simon Emil (UFG)\\r\\n',\n",
       " 'Andersen, Hans (V)\\r\\n',\n",
       " 'Andersen, Kirsten Normann (SF)\\r\\n',\n",
       " 'Andersen, Theresa Berg (SF)\\r\\n',\n",
       " 'Auken, Ida (S)\\r\\n',\n",
       " 'Bager, Britt (KF)\\r\\n',\n",
       " 'Bank, Heidi (V)\\r\\n',\n",
       " 'Bech, Lise (DF)\\r\\n',\n",
       " 'Bek, Kaare Dybvad (S)\\r\\n',\n",
       " 'Bergman, Birgitte (KF)\\r\\n',\n",
       " 'Berthelsen, Anne Valentina (SF)\\r\\n',\n",
       " 'Blixt, Liselott (DF)\\r\\n',\n",
       " 'Bonnesen, Erling (V)\\r\\n',\n",
       " 'Bramsen, Trine (S)\\r\\n',\n",
       " 'Brandenborg, Bjørn (S)\\r\\n',\n",
       " 'Bruus, Jeppe (S)\\r\\n',\n",
       " 'Bødskov, Morten (S)\\r\\n',\n",
       " 'Bøgsted, Bent (DF)\\r\\n',\n",
       " 'Carøe, Astrid (SF)\\r\\n',\n",
       " 'Christensen, Peter Seier (NB)\\r\\n',\n",
       " 'Christensen, René (DF)\\r\\n',\n",
       " 'Dahl, Henrik (LA)\\r\\n',\n",
       " 'Dahl, Jens Henrik Thulesen (DF)\\r\\n',\n",
       " 'Dahl, Kristian Thulesen (DF)\\r\\n',\n",
       " 'Dahlin, Morten (V)\\r\\n',\n",
       " 'Damsbo-Andersen, Lennart (S)\\r\\n',\n",
       " 'Danielsen, Thomas (V)\\r\\n',\n",
       " 'Dehnhardt, Karina Lorentzen (SF)\\r\\n',\n",
       " 'Dencker, Mette Hjermind (DF)\\r\\n',\n",
       " 'Dyhr, Pia Olsen (SF)\\r\\n',\n",
       " 'Elbæk, Uffe (UFG)\\r\\n',\n",
       " 'Elholm, Louise Schack (V)\\r\\n',\n",
       " 'Ellemann, Karen (V)\\r\\n',\n",
       " 'Ellemann-Jensen, Jakob (V)\\r\\n',\n",
       " 'Engelbrecht, Benny (S)\\r\\n',\n",
       " 'Espersen, Søren (DF)\\r\\n',\n",
       " 'Fabricius, Camilla (S)\\r\\n',\n",
       " 'Flydtkjær, Dennis (DF)\\r\\n',\n",
       " 'Flyvholm, Eva (EL)\\r\\n',\n",
       " 'Frederiksen, Claus Hjort (V)\\r\\n',\n",
       " 'Frederiksen, Mette (S)\\r\\n',\n",
       " 'Fuglede, Mads (V)\\r\\n',\n",
       " 'Geertsen, Martin (V)\\r\\n',\n",
       " 'Gejl, Torsten (ALT)\\r\\n',\n",
       " 'Gjerskov, Mette (S)\\r\\n',\n",
       " 'Gottlieb, Jette (EL)\\r\\n',\n",
       " 'Gaardsted, Karin (S)\\r\\n',\n",
       " 'Halsboe-Jørgensen, Ane (S)\\r\\n',\n",
       " 'Hansen, Eva Kjer (V)\\r\\n',\n",
       " 'Hansen, Niels Flemming (KF)\\r\\n',\n",
       " 'Hav, Orla (S)\\r\\n',\n",
       " 'Hegaard, Kristian (RV)\\r\\n',\n",
       " 'Heitmann, Jane (V)\\r\\n',\n",
       " 'Henriksen, Preben Bang (V)\\r\\n',\n",
       " 'Heunicke, Magnus (S)\\r\\n',\n",
       " 'Hummelgaard, Peter (S)\\r\\n',\n",
       " 'Hvelplund, Peder (EL)\\r\\n',\n",
       " 'Hækkerup, Nick (S)\\r\\n',\n",
       " 'Høegh-Dam, Aki-Matilda (SIU)\\r\\n',\n",
       " 'Hønge, Karsten (SF)\\r\\n',\n",
       " 'Haarder, Bertel (V)\\r\\n',\n",
       " 'Jakobsen, Daniel Toft (S)\\r\\n',\n",
       " 'Jelved, Marianne (RV)\\r\\n',\n",
       " 'Jensen, Jacob (V)\\r\\n',\n",
       " 'Jensen, Leif Lahn (S)\\r\\n',\n",
       " 'Jensen, Michael Aastrup (V)\\r\\n',\n",
       " 'Jensen, Mogens (S)\\r\\n',\n",
       " 'Jensen, Thomas (S)\\r\\n',\n",
       " 'Jerkel, Brigitte Klintskov (KF)\\r\\n',\n",
       " 'Joel, Jens (S)\\r\\n',\n",
       " 'Joensen, Edmund (SP)\\r\\n',\n",
       " 'Johansen, Jan (S)\\r\\n',\n",
       " 'Juel-Jensen, Peter (V)\\r\\n',\n",
       " 'Juhl, Christian (EL)\\r\\n',\n",
       " 'Juul, Mona (KF)\\r\\n',\n",
       " 'Jørgensen, Dan (S)\\r\\n',\n",
       " 'Jørgensen, Jan E. (V)\\r\\n',\n",
       " 'Khader, Naser (KF)\\r\\n',\n",
       " 'Kissmeyer, Carsten (V)\\r\\n',\n",
       " 'Kjær, Kasper Sand (S)\\r\\n',\n",
       " 'Kjærsgaard, Pia (DF)\\r\\n',\n",
       " 'Knuth, Marcus (KF)\\r\\n',\n",
       " 'Knuth, Stén (V)\\r\\n',\n",
       " 'Kollerup, Simon (S)\\r\\n',\n",
       " 'Krag, Astrid (S)\\r\\n',\n",
       " 'Krarup, Marie (DF)\\r\\n',\n",
       " 'Kristensen, Henrik Dam (S)\\r\\n',\n",
       " 'Kronborg, Anders (S)\\r\\n',\n",
       " 'Kronborg, Susan (RV)\\r\\n',\n",
       " 'Langhoff, Rasmus Horn (S)\\r\\n',\n",
       " 'Larsen, Malte (S)\\r\\n',\n",
       " 'Larsen, Per (KF)\\r\\n',\n",
       " 'Larsen, Aaja Chemnitz (IA)\\r\\n',\n",
       " 'Larsson, Tanja (S)\\r\\n',\n",
       " 'Lauritzen, Karsten (V)\\r\\n',\n",
       " 'Laustsen, Bjarne (S)\\r\\n',\n",
       " 'Lidegaard, Martin (RV)\\r\\n',\n",
       " 'Lilleholt, Lars Christian (V)\\r\\n',\n",
       " 'Lind, Annette (S)\\r\\n',\n",
       " 'Lindgreen, Stinus (RV)\\r\\n',\n",
       " 'Lorentzen, Kristian Pihl (V)\\r\\n',\n",
       " 'Lund, Rosa (EL)\\r\\n',\n",
       " 'Lund, Rune (EL)\\r\\n',\n",
       " 'Løhde, Sophie (V)\\r\\n',\n",
       " 'Madsen, Christian Rabjerg (S)\\r\\n',\n",
       " 'Madsen, Rasmus Vestergaard (EL)\\r\\n',\n",
       " 'Mark, Jacob (SF)\\r\\n',\n",
       " 'Mathiesen, Lars Boje (NB)\\r\\n',\n",
       " 'Matthiesen, Anni (V)\\r\\n',\n",
       " 'Melson, Christoffer Aagaard (V)\\r\\n',\n",
       " 'Mercado, Mai (KF)\\r\\n',\n",
       " 'Messerschmidt, Morten (DF)\\r\\n',\n",
       " 'Mikkelsen, Kenneth (V)\\r\\n',\n",
       " 'Mortensen, Flemming Møller (S)\\r\\n',\n",
       " 'Munk, Signe (SF)\\r\\n',\n",
       " 'Mølbæk, Charlotte Broman (SF)\\r\\n',\n",
       " 'Møller, Henrik (S)\\r\\n',\n",
       " 'Nawa, Samira (RV)\\r\\n',\n",
       " 'Nielsen, Sofie Carsten (RV)\\r\\n',\n",
       " 'Nordqvist, Rasmus (SF)\\r\\n',\n",
       " 'Nørby, Ellen Trane (V)\\r\\n',\n",
       " 'Oguz, Halime (SF)\\r\\n',\n",
       " 'Olesen, Ole Birk (LA)\\r\\n',\n",
       " 'Olldag, Kathrine (RV)\\r\\n',\n",
       " 'Pedersen, Torsten Schack (V)\\r\\n',\n",
       " 'Petersen, Jesper (S)\\r\\n',\n",
       " 'Petersen, Rasmus Helveg (RV)\\r\\n',\n",
       " 'Poulsen, Søren Pape (KF)\\r\\n',\n",
       " 'Poulsen, Troels Lund (V)\\r\\n',\n",
       " 'Prehn, Rasmus (S)\\r\\n',\n",
       " 'Rasmussen, Lars Aslan (S)\\r\\n',\n",
       " 'Rasmussen, Lars Løkke (UFG)\\r\\n',\n",
       " 'Rasmussen, Søren Egge (EL)\\r\\n',\n",
       " 'Ravn, Troels (S)\\r\\n',\n",
       " 'Robsøe, Katrine (RV)\\r\\n',\n",
       " 'Rod, Lotte (RV)\\r\\n',\n",
       " 'Rohde, Jens (UFG)\\r\\n',\n",
       " 'Rosenkrantz-Theil, Pernille (S)\\r\\n',\n",
       " 'Roug, Kasper (S)\\r\\n',\n",
       " 'Scheelsbeck, Merete (KF)\\r\\n',\n",
       " 'Schmidt, Hans Christian (V)\\r\\n',\n",
       " 'Siddique, Sikandar (UFG)\\r\\n',\n",
       " 'Skibby, Hans Kristian (DF)\\r\\n',\n",
       " 'Skipper, Pernille (EL)\\r\\n',\n",
       " 'Skovsby, Julie (S)\\r\\n',\n",
       " 'Skaale, Sjúrður (JF)\\r\\n',\n",
       " 'Skaarup, Peter (DF)\\r\\n',\n",
       " 'Stampe, Zenia (RV)\\r\\n',\n",
       " 'Steenberg, Andreas (RV)\\r\\n',\n",
       " 'Stoklund, Rasmus (S)\\r\\n',\n",
       " 'Strøjer-Schmidt, Ina (SF)\\r\\n',\n",
       " 'Støjberg, Inger (UFG)\\r\\n',\n",
       " 'Sølvhøj, Jakob (EL)\\r\\n',\n",
       " 'Søndergaard, Søren (EL)\\r\\n',\n",
       " 'Tesfaye, Mattias (S)\\r\\n',\n",
       " 'Thiesen, Mette (NB)\\r\\n',\n",
       " 'Torp, Maja (V)\\r\\n',\n",
       " 'Torp, Trine (SF)\\r\\n',\n",
       " 'Tørnæs, Ulla (V)\\r\\n',\n",
       " 'Valentin, Carl (SF)\\r\\n',\n",
       " 'Valentin, Kim (V)\\r\\n',\n",
       " 'Vanopslagh, Alex (LA)\\r\\n',\n",
       " 'Velasquez, Victoria (EL)\\r\\n',\n",
       " 'Vermund, Pernille (NB)\\r\\n',\n",
       " 'Villadsen, Mai (EL)\\r\\n',\n",
       " 'Vind, Birgitte (S)\\r\\n',\n",
       " 'Vinther, Henrik (RV)\\r\\n',\n",
       " 'Wammen, Nicolai (S)\\r\\n',\n",
       " 'Wermelin, Lea (S)\\r\\n',\n",
       " 'Zimmer, Susanne (UFG)\\r\\n',\n",
       " 'Øktem, Fatma (V)\\r\\n',\n",
       " 'Østerby, Orla (UFG)\\r\\n',\n",
       " 'Østergaard, Anne Honoré (V)']"
      ]
     },
     "execution_count": 2,
     "metadata": {},
     "output_type": "execute_result"
    }
   ],
   "source": [
    "\"\"\"Importing the document of Danish Parliament members, collected from https://www.ft.dk/da/medlemmer and pasted into a .txt document\"\"\"\n",
    "with codecs.open('FolketingsmedlemmerDK.txt', encoding='utf8') as infile:\n",
    "    ftm = infile.readlines()\n",
    "    infile.close\n",
    "ftm"
   ]
  },
  {
   "cell_type": "code",
   "execution_count": 3,
   "id": "persistent-sheet",
   "metadata": {},
   "outputs": [],
   "source": [
    "Medlem = []\n",
    "Parti = []\n",
    "for e in ftm:\n",
    "    e = e.split('(')\n",
    "    Medlem.append(e[0])\n",
    "    Parti.append(e[1])"
   ]
  },
  {
   "cell_type": "code",
   "execution_count": 4,
   "id": "extreme-feature",
   "metadata": {},
   "outputs": [
    {
     "data": {
      "text/html": [
       "<div>\n",
       "<style scoped>\n",
       "    .dataframe tbody tr th:only-of-type {\n",
       "        vertical-align: middle;\n",
       "    }\n",
       "\n",
       "    .dataframe tbody tr th {\n",
       "        vertical-align: top;\n",
       "    }\n",
       "\n",
       "    .dataframe thead th {\n",
       "        text-align: right;\n",
       "    }\n",
       "</style>\n",
       "<table border=\"1\" class=\"dataframe\">\n",
       "  <thead>\n",
       "    <tr style=\"text-align: right;\">\n",
       "      <th></th>\n",
       "      <th>Medlem</th>\n",
       "      <th>Parti</th>\n",
       "    </tr>\n",
       "  </thead>\n",
       "  <tbody>\n",
       "    <tr>\n",
       "      <th>0</th>\n",
       "      <td>Abildgaard, Mette</td>\n",
       "      <td>KF)\\r\\n</td>\n",
       "    </tr>\n",
       "    <tr>\n",
       "      <th>1</th>\n",
       "      <td>Adsbøl, Karina</td>\n",
       "      <td>DF)\\r\\n</td>\n",
       "    </tr>\n",
       "    <tr>\n",
       "      <th>2</th>\n",
       "      <td>Ahlers, Tommy</td>\n",
       "      <td>V)\\r\\n</td>\n",
       "    </tr>\n",
       "    <tr>\n",
       "      <th>3</th>\n",
       "      <td>Ahrendtsen, Alex</td>\n",
       "      <td>DF)\\r\\n</td>\n",
       "    </tr>\n",
       "    <tr>\n",
       "      <th>4</th>\n",
       "      <td>Ambo-Rasmussen, Marlene</td>\n",
       "      <td>V)\\r\\n</td>\n",
       "    </tr>\n",
       "    <tr>\n",
       "      <th>...</th>\n",
       "      <td>...</td>\n",
       "      <td>...</td>\n",
       "    </tr>\n",
       "    <tr>\n",
       "      <th>174</th>\n",
       "      <td>Wermelin, Lea</td>\n",
       "      <td>S)\\r\\n</td>\n",
       "    </tr>\n",
       "    <tr>\n",
       "      <th>175</th>\n",
       "      <td>Zimmer, Susanne</td>\n",
       "      <td>UFG)\\r\\n</td>\n",
       "    </tr>\n",
       "    <tr>\n",
       "      <th>176</th>\n",
       "      <td>Øktem, Fatma</td>\n",
       "      <td>V)\\r\\n</td>\n",
       "    </tr>\n",
       "    <tr>\n",
       "      <th>177</th>\n",
       "      <td>Østerby, Orla</td>\n",
       "      <td>UFG)\\r\\n</td>\n",
       "    </tr>\n",
       "    <tr>\n",
       "      <th>178</th>\n",
       "      <td>Østergaard, Anne Honoré</td>\n",
       "      <td>V)</td>\n",
       "    </tr>\n",
       "  </tbody>\n",
       "</table>\n",
       "<p>179 rows × 2 columns</p>\n",
       "</div>"
      ],
      "text/plain": [
       "                       Medlem     Parti\n",
       "0          Abildgaard, Mette    KF)\\r\\n\n",
       "1             Adsbøl, Karina    DF)\\r\\n\n",
       "2              Ahlers, Tommy     V)\\r\\n\n",
       "3           Ahrendtsen, Alex    DF)\\r\\n\n",
       "4    Ambo-Rasmussen, Marlene     V)\\r\\n\n",
       "..                        ...       ...\n",
       "174            Wermelin, Lea     S)\\r\\n\n",
       "175          Zimmer, Susanne   UFG)\\r\\n\n",
       "176             Øktem, Fatma     V)\\r\\n\n",
       "177            Østerby, Orla   UFG)\\r\\n\n",
       "178  Østergaard, Anne Honoré         V)\n",
       "\n",
       "[179 rows x 2 columns]"
      ]
     },
     "execution_count": 4,
     "metadata": {},
     "output_type": "execute_result"
    }
   ],
   "source": [
    "dic = {}\n",
    "dic['Medlem'] = Medlem\n",
    "dic['Parti'] = Parti\n",
    "df = pd.DataFrame(dic)\n",
    "df"
   ]
  },
  {
   "cell_type": "code",
   "execution_count": 5,
   "id": "utility-former",
   "metadata": {},
   "outputs": [
    {
     "data": {
      "text/html": [
       "<div>\n",
       "<style scoped>\n",
       "    .dataframe tbody tr th:only-of-type {\n",
       "        vertical-align: middle;\n",
       "    }\n",
       "\n",
       "    .dataframe tbody tr th {\n",
       "        vertical-align: top;\n",
       "    }\n",
       "\n",
       "    .dataframe thead th {\n",
       "        text-align: right;\n",
       "    }\n",
       "</style>\n",
       "<table border=\"1\" class=\"dataframe\">\n",
       "  <thead>\n",
       "    <tr style=\"text-align: right;\">\n",
       "      <th></th>\n",
       "      <th>Medlem</th>\n",
       "      <th>Parti</th>\n",
       "    </tr>\n",
       "  </thead>\n",
       "  <tbody>\n",
       "    <tr>\n",
       "      <th>0</th>\n",
       "      <td>Mette  Abildgaard</td>\n",
       "      <td>KF</td>\n",
       "    </tr>\n",
       "    <tr>\n",
       "      <th>1</th>\n",
       "      <td>Karina  Adsbøl</td>\n",
       "      <td>DF</td>\n",
       "    </tr>\n",
       "    <tr>\n",
       "      <th>2</th>\n",
       "      <td>Tommy  Ahlers</td>\n",
       "      <td>V</td>\n",
       "    </tr>\n",
       "    <tr>\n",
       "      <th>3</th>\n",
       "      <td>Alex  Ahrendtsen</td>\n",
       "      <td>DF</td>\n",
       "    </tr>\n",
       "    <tr>\n",
       "      <th>4</th>\n",
       "      <td>Marlene  Ambo-Rasmussen</td>\n",
       "      <td>V</td>\n",
       "    </tr>\n",
       "    <tr>\n",
       "      <th>...</th>\n",
       "      <td>...</td>\n",
       "      <td>...</td>\n",
       "    </tr>\n",
       "    <tr>\n",
       "      <th>174</th>\n",
       "      <td>Lea  Wermelin</td>\n",
       "      <td>S</td>\n",
       "    </tr>\n",
       "    <tr>\n",
       "      <th>175</th>\n",
       "      <td>Susanne  Zimmer</td>\n",
       "      <td>UFG</td>\n",
       "    </tr>\n",
       "    <tr>\n",
       "      <th>176</th>\n",
       "      <td>Fatma  Øktem</td>\n",
       "      <td>V</td>\n",
       "    </tr>\n",
       "    <tr>\n",
       "      <th>177</th>\n",
       "      <td>Orla  Østerby</td>\n",
       "      <td>UFG</td>\n",
       "    </tr>\n",
       "    <tr>\n",
       "      <th>178</th>\n",
       "      <td>Anne Honoré  Østergaard</td>\n",
       "      <td>V</td>\n",
       "    </tr>\n",
       "  </tbody>\n",
       "</table>\n",
       "<p>179 rows × 2 columns</p>\n",
       "</div>"
      ],
      "text/plain": [
       "                      Medlem Parti\n",
       "0          Mette  Abildgaard    KF\n",
       "1             Karina  Adsbøl    DF\n",
       "2              Tommy  Ahlers     V\n",
       "3           Alex  Ahrendtsen    DF\n",
       "4    Marlene  Ambo-Rasmussen     V\n",
       "..                       ...   ...\n",
       "174            Lea  Wermelin     S\n",
       "175          Susanne  Zimmer   UFG\n",
       "176             Fatma  Øktem     V\n",
       "177            Orla  Østerby   UFG\n",
       "178  Anne Honoré  Østergaard     V\n",
       "\n",
       "[179 rows x 2 columns]"
      ]
     },
     "execution_count": 5,
     "metadata": {},
     "output_type": "execute_result"
    }
   ],
   "source": [
    "\"\"\"cleaning the names and parties\"\"\"\n",
    "\n",
    "if ',' in df['Medlem'][0]:\n",
    "    Parti_clean = []\n",
    "    for p in df['Parti']:\n",
    "        t = \"\"\n",
    "        for c in p:\n",
    "            if c in \"ABCDEFGHIJKLMNOPQRSTUVXYZÆØÅ\":\n",
    "                t+=c\n",
    "        Parti_clean.append(t)\n",
    "    df['Parti'] = Parti_clean\n",
    "\n",
    "\n",
    "    Medlem_clean = []\n",
    "    for m in df['Medlem']:\n",
    "        t = \"\"\n",
    "        l = m.split(' ')\n",
    "        for i in range(1,len(l),1):\n",
    "            t+=l[i]+' '\n",
    "        t += l[0]+' '\n",
    "        Medlem_clean.append(t[:-2])\n",
    "    df['Medlem'] = Medlem_clean\n",
    "df"
   ]
  },
  {
   "cell_type": "markdown",
   "id": "proper-facial",
   "metadata": {},
   "source": [
    "## Saving the file for later use"
   ]
  },
  {
   "cell_type": "code",
   "execution_count": 551,
   "id": "continued-center",
   "metadata": {},
   "outputs": [],
   "source": [
    "df.to_pickle('ft_medlemmer.pkl')"
   ]
  },
  {
   "cell_type": "markdown",
   "id": "peaceful-optimum",
   "metadata": {},
   "source": [
    "# Functions for searching through Twitter to find the Parliament members twitter names\n",
    "### This took several days..."
   ]
  },
  {
   "cell_type": "code",
   "execution_count": 7,
   "id": "native-belief",
   "metadata": {},
   "outputs": [],
   "source": [
    "\"\"\"Modules and functions\"\"\"\n",
    "\n",
    "from selenium import webdriver\n",
    "from selenium.webdriver.common.keys import Keys\n",
    "from selenium.webdriver.common.by import By\n",
    "from selenium.webdriver.support.ui import WebDriverWait\n",
    "from selenium.webdriver.support import expected_conditions as EC\n",
    "\n",
    "from bs4 import BeautifulSoup\n",
    "import time\n",
    "import pandas as pd\n",
    "\n",
    "import re\n",
    "import bs4"
   ]
  },
  {
   "cell_type": "code",
   "execution_count": 6,
   "id": "sharp-laundry",
   "metadata": {},
   "outputs": [
    {
     "data": {
      "text/html": [
       "<div>\n",
       "<style scoped>\n",
       "    .dataframe tbody tr th:only-of-type {\n",
       "        vertical-align: middle;\n",
       "    }\n",
       "\n",
       "    .dataframe tbody tr th {\n",
       "        vertical-align: top;\n",
       "    }\n",
       "\n",
       "    .dataframe thead th {\n",
       "        text-align: right;\n",
       "    }\n",
       "</style>\n",
       "<table border=\"1\" class=\"dataframe\">\n",
       "  <thead>\n",
       "    <tr style=\"text-align: right;\">\n",
       "      <th></th>\n",
       "      <th>Medlem</th>\n",
       "      <th>Parti</th>\n",
       "      <th>Twitter_navn</th>\n",
       "    </tr>\n",
       "  </thead>\n",
       "  <tbody>\n",
       "    <tr>\n",
       "      <th>0</th>\n",
       "      <td>Mette Abildgaard</td>\n",
       "      <td>KF</td>\n",
       "      <td>metteabildgaard</td>\n",
       "    </tr>\n",
       "    <tr>\n",
       "      <th>1</th>\n",
       "      <td>Karina Adsbøl</td>\n",
       "      <td>DF</td>\n",
       "      <td>AdsbolAdsbl</td>\n",
       "    </tr>\n",
       "    <tr>\n",
       "      <th>2</th>\n",
       "      <td>Tommy Ahlers</td>\n",
       "      <td>V</td>\n",
       "      <td>aahlers</td>\n",
       "    </tr>\n",
       "    <tr>\n",
       "      <th>3</th>\n",
       "      <td>Alex Ahrendtsen</td>\n",
       "      <td>DF</td>\n",
       "      <td>NaN</td>\n",
       "    </tr>\n",
       "    <tr>\n",
       "      <th>4</th>\n",
       "      <td>Marlene Ambo-Rasmussen</td>\n",
       "      <td>V</td>\n",
       "      <td>MarleneAmbo</td>\n",
       "    </tr>\n",
       "    <tr>\n",
       "      <th>...</th>\n",
       "      <td>...</td>\n",
       "      <td>...</td>\n",
       "      <td>...</td>\n",
       "    </tr>\n",
       "    <tr>\n",
       "      <th>174</th>\n",
       "      <td>Lea Wermelin</td>\n",
       "      <td>S</td>\n",
       "      <td>LeaWermelin</td>\n",
       "    </tr>\n",
       "    <tr>\n",
       "      <th>175</th>\n",
       "      <td>Susanne Zimmer</td>\n",
       "      <td>UFG</td>\n",
       "      <td>Susanne_Zimmer_</td>\n",
       "    </tr>\n",
       "    <tr>\n",
       "      <th>176</th>\n",
       "      <td>Fatma Øktem</td>\n",
       "      <td>V</td>\n",
       "      <td>fatmaoektem</td>\n",
       "    </tr>\n",
       "    <tr>\n",
       "      <th>177</th>\n",
       "      <td>Orla Østerby</td>\n",
       "      <td>UFG</td>\n",
       "      <td>orlaosterby</td>\n",
       "    </tr>\n",
       "    <tr>\n",
       "      <th>178</th>\n",
       "      <td>Anne Honoré Østergaard</td>\n",
       "      <td>V</td>\n",
       "      <td>AnneStergaa</td>\n",
       "    </tr>\n",
       "  </tbody>\n",
       "</table>\n",
       "<p>179 rows × 3 columns</p>\n",
       "</div>"
      ],
      "text/plain": [
       "                     Medlem Parti     Twitter_navn\n",
       "0          Mette Abildgaard    KF  metteabildgaard\n",
       "1             Karina Adsbøl    DF      AdsbolAdsbl\n",
       "2              Tommy Ahlers     V          aahlers\n",
       "3           Alex Ahrendtsen    DF              NaN\n",
       "4    Marlene Ambo-Rasmussen     V      MarleneAmbo\n",
       "..                      ...   ...              ...\n",
       "174            Lea Wermelin     S      LeaWermelin\n",
       "175          Susanne Zimmer   UFG  Susanne_Zimmer_\n",
       "176             Fatma Øktem     V      fatmaoektem\n",
       "177            Orla Østerby   UFG      orlaosterby\n",
       "178  Anne Honoré Østergaard     V      AnneStergaa\n",
       "\n",
       "[179 rows x 3 columns]"
      ]
     },
     "execution_count": 6,
     "metadata": {},
     "output_type": "execute_result"
    }
   ],
   "source": [
    "\"\"\"Importing the pickled data\"\"\"\n",
    "data = pd.read_pickle(\"ft_medlemmer.pkl\")\n",
    "data"
   ]
  },
  {
   "cell_type": "markdown",
   "id": "approximate-answer",
   "metadata": {},
   "source": [
    "### Setting up driver"
   ]
  },
  {
   "cell_type": "code",
   "execution_count": 8,
   "id": "italic-albania",
   "metadata": {},
   "outputs": [],
   "source": [
    "PATH = \"C:\\Program Files (x86)\\Chromedriver_88\\chromedriver.exe\""
   ]
  },
  {
   "cell_type": "code",
   "execution_count": 10,
   "id": "sound-saint",
   "metadata": {},
   "outputs": [],
   "source": [
    "driver = webdriver.Chrome(PATH)\n",
    "driver.get(\"http://twitter.com\")"
   ]
  },
  {
   "cell_type": "markdown",
   "id": "dress-announcement",
   "metadata": {},
   "source": [
    "### After setting up the driver, you have to log in to Twitter and navigate to the search page"
   ]
  },
  {
   "cell_type": "code",
   "execution_count": 89,
   "id": "stupid-chemistry",
   "metadata": {
    "collapsed": true
   },
   "outputs": [
    {
     "ename": "NoSuchElementException",
     "evalue": "Message: no such element: Unable to locate element: {\"method\":\"css selector\",\"selector\":\".css-901oao r-18jsvk2 r-6koalj r-16y2uox r-1qd0xha r-a023e6 r-16dba41 r-rjixqe r-bcqeeo r-qvutc0\"}\n  (Session info: chrome=89.0.4389.114)\n",
     "output_type": "error",
     "traceback": [
      "\u001b[1;31m---------------------------------------------------------------------------\u001b[0m",
      "\u001b[1;31mNoSuchElementException\u001b[0m                    Traceback (most recent call last)",
      "\u001b[1;32m<ipython-input-89-b23ee2e16a37>\u001b[0m in \u001b[0;36m<module>\u001b[1;34m\u001b[0m\n\u001b[1;32m----> 1\u001b[1;33m \u001b[0msearch\u001b[0m \u001b[1;33m=\u001b[0m \u001b[0mdriver\u001b[0m\u001b[1;33m.\u001b[0m\u001b[0mfind_element_by_class_name\u001b[0m\u001b[1;33m(\u001b[0m\u001b[1;34m'css-901oao r-18jsvk2 r-6koalj r-16y2uox r-1qd0xha r-a023e6 r-16dba41 r-rjixqe r-bcqeeo r-qvutc0'\u001b[0m\u001b[1;33m)\u001b[0m\u001b[1;33m\u001b[0m\u001b[1;33m\u001b[0m\u001b[0m\n\u001b[0m\u001b[0;32m      2\u001b[0m \u001b[0msearch\u001b[0m\u001b[1;33m.\u001b[0m\u001b[0mclear\u001b[0m\u001b[1;33m(\u001b[0m\u001b[1;33m)\u001b[0m\u001b[1;33m\u001b[0m\u001b[1;33m\u001b[0m\u001b[0m\n\u001b[0;32m      3\u001b[0m \u001b[1;33m\u001b[0m\u001b[0m\n\u001b[0;32m      4\u001b[0m \u001b[1;31m#this is the line were you would normally input the search_word\u001b[0m\u001b[1;33m\u001b[0m\u001b[1;33m\u001b[0m\u001b[1;33m\u001b[0m\u001b[0m\n\u001b[0;32m      5\u001b[0m \u001b[0msearch\u001b[0m\u001b[1;33m.\u001b[0m\u001b[0msend_keys\u001b[0m\u001b[1;33m(\u001b[0m\u001b[1;34m'Emil Amitzbøll'\u001b[0m\u001b[1;33m)\u001b[0m\u001b[1;33m\u001b[0m\u001b[1;33m\u001b[0m\u001b[0m\n",
      "\u001b[1;32m~\\miniconda3\\envs\\py38\\lib\\site-packages\\selenium\\webdriver\\remote\\webdriver.py\u001b[0m in \u001b[0;36mfind_element_by_class_name\u001b[1;34m(self, name)\u001b[0m\n\u001b[0;32m    562\u001b[0m             \u001b[0melement\u001b[0m \u001b[1;33m=\u001b[0m \u001b[0mdriver\u001b[0m\u001b[1;33m.\u001b[0m\u001b[0mfind_element_by_class_name\u001b[0m\u001b[1;33m(\u001b[0m\u001b[1;34m'foo'\u001b[0m\u001b[1;33m)\u001b[0m\u001b[1;33m\u001b[0m\u001b[1;33m\u001b[0m\u001b[0m\n\u001b[0;32m    563\u001b[0m         \"\"\"\n\u001b[1;32m--> 564\u001b[1;33m         \u001b[1;32mreturn\u001b[0m \u001b[0mself\u001b[0m\u001b[1;33m.\u001b[0m\u001b[0mfind_element\u001b[0m\u001b[1;33m(\u001b[0m\u001b[0mby\u001b[0m\u001b[1;33m=\u001b[0m\u001b[0mBy\u001b[0m\u001b[1;33m.\u001b[0m\u001b[0mCLASS_NAME\u001b[0m\u001b[1;33m,\u001b[0m \u001b[0mvalue\u001b[0m\u001b[1;33m=\u001b[0m\u001b[0mname\u001b[0m\u001b[1;33m)\u001b[0m\u001b[1;33m\u001b[0m\u001b[1;33m\u001b[0m\u001b[0m\n\u001b[0m\u001b[0;32m    565\u001b[0m \u001b[1;33m\u001b[0m\u001b[0m\n\u001b[0;32m    566\u001b[0m     \u001b[1;32mdef\u001b[0m \u001b[0mfind_elements_by_class_name\u001b[0m\u001b[1;33m(\u001b[0m\u001b[0mself\u001b[0m\u001b[1;33m,\u001b[0m \u001b[0mname\u001b[0m\u001b[1;33m)\u001b[0m\u001b[1;33m:\u001b[0m\u001b[1;33m\u001b[0m\u001b[1;33m\u001b[0m\u001b[0m\n",
      "\u001b[1;32m~\\miniconda3\\envs\\py38\\lib\\site-packages\\selenium\\webdriver\\remote\\webdriver.py\u001b[0m in \u001b[0;36mfind_element\u001b[1;34m(self, by, value)\u001b[0m\n\u001b[0;32m    974\u001b[0m                 \u001b[0mby\u001b[0m \u001b[1;33m=\u001b[0m \u001b[0mBy\u001b[0m\u001b[1;33m.\u001b[0m\u001b[0mCSS_SELECTOR\u001b[0m\u001b[1;33m\u001b[0m\u001b[1;33m\u001b[0m\u001b[0m\n\u001b[0;32m    975\u001b[0m                 \u001b[0mvalue\u001b[0m \u001b[1;33m=\u001b[0m \u001b[1;34m'[name=\"%s\"]'\u001b[0m \u001b[1;33m%\u001b[0m \u001b[0mvalue\u001b[0m\u001b[1;33m\u001b[0m\u001b[1;33m\u001b[0m\u001b[0m\n\u001b[1;32m--> 976\u001b[1;33m         return self.execute(Command.FIND_ELEMENT, {\n\u001b[0m\u001b[0;32m    977\u001b[0m             \u001b[1;34m'using'\u001b[0m\u001b[1;33m:\u001b[0m \u001b[0mby\u001b[0m\u001b[1;33m,\u001b[0m\u001b[1;33m\u001b[0m\u001b[1;33m\u001b[0m\u001b[0m\n\u001b[0;32m    978\u001b[0m             'value': value})['value']\n",
      "\u001b[1;32m~\\miniconda3\\envs\\py38\\lib\\site-packages\\selenium\\webdriver\\remote\\webdriver.py\u001b[0m in \u001b[0;36mexecute\u001b[1;34m(self, driver_command, params)\u001b[0m\n\u001b[0;32m    319\u001b[0m         \u001b[0mresponse\u001b[0m \u001b[1;33m=\u001b[0m \u001b[0mself\u001b[0m\u001b[1;33m.\u001b[0m\u001b[0mcommand_executor\u001b[0m\u001b[1;33m.\u001b[0m\u001b[0mexecute\u001b[0m\u001b[1;33m(\u001b[0m\u001b[0mdriver_command\u001b[0m\u001b[1;33m,\u001b[0m \u001b[0mparams\u001b[0m\u001b[1;33m)\u001b[0m\u001b[1;33m\u001b[0m\u001b[1;33m\u001b[0m\u001b[0m\n\u001b[0;32m    320\u001b[0m         \u001b[1;32mif\u001b[0m \u001b[0mresponse\u001b[0m\u001b[1;33m:\u001b[0m\u001b[1;33m\u001b[0m\u001b[1;33m\u001b[0m\u001b[0m\n\u001b[1;32m--> 321\u001b[1;33m             \u001b[0mself\u001b[0m\u001b[1;33m.\u001b[0m\u001b[0merror_handler\u001b[0m\u001b[1;33m.\u001b[0m\u001b[0mcheck_response\u001b[0m\u001b[1;33m(\u001b[0m\u001b[0mresponse\u001b[0m\u001b[1;33m)\u001b[0m\u001b[1;33m\u001b[0m\u001b[1;33m\u001b[0m\u001b[0m\n\u001b[0m\u001b[0;32m    322\u001b[0m             response['value'] = self._unwrap_value(\n\u001b[0;32m    323\u001b[0m                 response.get('value', None))\n",
      "\u001b[1;32m~\\miniconda3\\envs\\py38\\lib\\site-packages\\selenium\\webdriver\\remote\\errorhandler.py\u001b[0m in \u001b[0;36mcheck_response\u001b[1;34m(self, response)\u001b[0m\n\u001b[0;32m    240\u001b[0m                 \u001b[0malert_text\u001b[0m \u001b[1;33m=\u001b[0m \u001b[0mvalue\u001b[0m\u001b[1;33m[\u001b[0m\u001b[1;34m'alert'\u001b[0m\u001b[1;33m]\u001b[0m\u001b[1;33m.\u001b[0m\u001b[0mget\u001b[0m\u001b[1;33m(\u001b[0m\u001b[1;34m'text'\u001b[0m\u001b[1;33m)\u001b[0m\u001b[1;33m\u001b[0m\u001b[1;33m\u001b[0m\u001b[0m\n\u001b[0;32m    241\u001b[0m             \u001b[1;32mraise\u001b[0m \u001b[0mexception_class\u001b[0m\u001b[1;33m(\u001b[0m\u001b[0mmessage\u001b[0m\u001b[1;33m,\u001b[0m \u001b[0mscreen\u001b[0m\u001b[1;33m,\u001b[0m \u001b[0mstacktrace\u001b[0m\u001b[1;33m,\u001b[0m \u001b[0malert_text\u001b[0m\u001b[1;33m)\u001b[0m\u001b[1;33m\u001b[0m\u001b[1;33m\u001b[0m\u001b[0m\n\u001b[1;32m--> 242\u001b[1;33m         \u001b[1;32mraise\u001b[0m \u001b[0mexception_class\u001b[0m\u001b[1;33m(\u001b[0m\u001b[0mmessage\u001b[0m\u001b[1;33m,\u001b[0m \u001b[0mscreen\u001b[0m\u001b[1;33m,\u001b[0m \u001b[0mstacktrace\u001b[0m\u001b[1;33m)\u001b[0m\u001b[1;33m\u001b[0m\u001b[1;33m\u001b[0m\u001b[0m\n\u001b[0m\u001b[0;32m    243\u001b[0m \u001b[1;33m\u001b[0m\u001b[0m\n\u001b[0;32m    244\u001b[0m     \u001b[1;32mdef\u001b[0m \u001b[0m_value_or_default\u001b[0m\u001b[1;33m(\u001b[0m\u001b[0mself\u001b[0m\u001b[1;33m,\u001b[0m \u001b[0mobj\u001b[0m\u001b[1;33m,\u001b[0m \u001b[0mkey\u001b[0m\u001b[1;33m,\u001b[0m \u001b[0mdefault\u001b[0m\u001b[1;33m)\u001b[0m\u001b[1;33m:\u001b[0m\u001b[1;33m\u001b[0m\u001b[1;33m\u001b[0m\u001b[0m\n",
      "\u001b[1;31mNoSuchElementException\u001b[0m: Message: no such element: Unable to locate element: {\"method\":\"css selector\",\"selector\":\".css-901oao r-18jsvk2 r-6koalj r-16y2uox r-1qd0xha r-a023e6 r-16dba41 r-rjixqe r-bcqeeo r-qvutc0\"}\n  (Session info: chrome=89.0.4389.114)\n"
     ]
    }
   ],
   "source": [
    "# search = driver.find_element_by_class_name('css-901oao r-18jsvk2 r-6koalj r-16y2uox r-1qd0xha r-a023e6 r-16dba41 r-rjixqe r-bcqeeo r-qvutc0')\n",
    "# search.clear()\n",
    "\n",
    "# #this is the line were you would normally input the search_word\n",
    "# search.send_keys('Emil Amitzbøll')\n",
    "\n",
    "# search.send_keys(Keys.RETURN)"
   ]
  },
  {
   "cell_type": "code",
   "execution_count": 11,
   "id": "informative-drawing",
   "metadata": {},
   "outputs": [],
   "source": [
    "def search_twitter(folketings_medlem):\n",
    "    search = driver.find_element_by_xpath(\"//input[@placeholder='Search Twitter']\")\n",
    "    search.clear()\n",
    "    time.sleep(0.5)\n",
    "    search.send_keys(folketings_medlem)\n",
    "    search.send_keys(Keys.RETURN)\n",
    "    time.sleep(0.5)\n",
    "    people = driver.find_element_by_link_text('People')\n",
    "    people.click()\n",
    "\n",
    "    time.sleep(0.5)\n",
    "\n",
    "    page = driver.page_source\n",
    "    soup = BeautifulSoup(page, \"lxml\")\n",
    "    first_list = soup.find_all('a')\n",
    "    new_list = []\n",
    "    for i, e in enumerate(first_list):\n",
    "        if 'a class=\"css-4rbku5 css-18t94o4 css-1dbjc4n r-1loqt21 r-1wbh5a2 r-dnmrzs r-1ny4l3l' in str(e):\n",
    "            new_list.append(i)\n",
    "    person = first_list[new_list[0]]\n",
    "    output = \"\"\n",
    "    s = str(person).split('\"')\n",
    "    for e in s:\n",
    "        if '/' in e[0]:\n",
    "            output+=e\n",
    "    return output"
   ]
  },
  {
   "cell_type": "code",
   "execution_count": null,
   "id": "dominant-garden",
   "metadata": {},
   "outputs": [],
   "source": [
    "\"\"\"Here i do the preliminary extraction of Twitter usernames\"\"\"\n",
    "twitter_names = []\n",
    "for ftm in data['Medlem']:\n",
    "    try:\n",
    "        twitter_names.append(search_twitter(ftm))\n",
    "    except:\n",
    "        twitter_names.append('NaN')\n",
    "    finally:\n",
    "        time.sleep(0.5)"
   ]
  },
  {
   "cell_type": "code",
   "execution_count": 78,
   "id": "confused-alias",
   "metadata": {},
   "outputs": [
    {
     "data": {
      "text/html": [
       "<div>\n",
       "<style scoped>\n",
       "    .dataframe tbody tr th:only-of-type {\n",
       "        vertical-align: middle;\n",
       "    }\n",
       "\n",
       "    .dataframe tbody tr th {\n",
       "        vertical-align: top;\n",
       "    }\n",
       "\n",
       "    .dataframe thead th {\n",
       "        text-align: right;\n",
       "    }\n",
       "</style>\n",
       "<table border=\"1\" class=\"dataframe\">\n",
       "  <thead>\n",
       "    <tr style=\"text-align: right;\">\n",
       "      <th></th>\n",
       "      <th>Medlem</th>\n",
       "      <th>Parti</th>\n",
       "      <th>Twitter_navn</th>\n",
       "    </tr>\n",
       "  </thead>\n",
       "  <tbody>\n",
       "    <tr>\n",
       "      <th>0</th>\n",
       "      <td>Mette  Abildgaard</td>\n",
       "      <td>KF</td>\n",
       "      <td>/metteabildgaard</td>\n",
       "    </tr>\n",
       "    <tr>\n",
       "      <th>1</th>\n",
       "      <td>Karina  Adsbøl</td>\n",
       "      <td>DF</td>\n",
       "      <td>/Karinameldgaard</td>\n",
       "    </tr>\n",
       "    <tr>\n",
       "      <th>2</th>\n",
       "      <td>Tommy  Ahlers</td>\n",
       "      <td>V</td>\n",
       "      <td>/aahlers</td>\n",
       "    </tr>\n",
       "    <tr>\n",
       "      <th>3</th>\n",
       "      <td>Alex  Ahrendtsen</td>\n",
       "      <td>DF</td>\n",
       "      <td>NaN</td>\n",
       "    </tr>\n",
       "    <tr>\n",
       "      <th>4</th>\n",
       "      <td>Marlene  Ambo-Rasmussen</td>\n",
       "      <td>V</td>\n",
       "      <td>/MarleneAmbo</td>\n",
       "    </tr>\n",
       "    <tr>\n",
       "      <th>...</th>\n",
       "      <td>...</td>\n",
       "      <td>...</td>\n",
       "      <td>...</td>\n",
       "    </tr>\n",
       "    <tr>\n",
       "      <th>174</th>\n",
       "      <td>Lea  Wermelin</td>\n",
       "      <td>S</td>\n",
       "      <td>/LeaWermelin</td>\n",
       "    </tr>\n",
       "    <tr>\n",
       "      <th>175</th>\n",
       "      <td>Susanne  Zimmer</td>\n",
       "      <td>UFG</td>\n",
       "      <td>/HeyYouSuz</td>\n",
       "    </tr>\n",
       "    <tr>\n",
       "      <th>176</th>\n",
       "      <td>Fatma  Øktem</td>\n",
       "      <td>V</td>\n",
       "      <td>/fatmaoektem</td>\n",
       "    </tr>\n",
       "    <tr>\n",
       "      <th>177</th>\n",
       "      <td>Orla  Østerby</td>\n",
       "      <td>UFG</td>\n",
       "      <td>/orlaosterby</td>\n",
       "    </tr>\n",
       "    <tr>\n",
       "      <th>178</th>\n",
       "      <td>Anne Honoré  Østergaard</td>\n",
       "      <td>V</td>\n",
       "      <td>/AnneStergaa</td>\n",
       "    </tr>\n",
       "  </tbody>\n",
       "</table>\n",
       "<p>179 rows × 3 columns</p>\n",
       "</div>"
      ],
      "text/plain": [
       "                      Medlem Parti      Twitter_navn\n",
       "0          Mette  Abildgaard    KF  /metteabildgaard\n",
       "1             Karina  Adsbøl    DF  /Karinameldgaard\n",
       "2              Tommy  Ahlers     V          /aahlers\n",
       "3           Alex  Ahrendtsen    DF               NaN\n",
       "4    Marlene  Ambo-Rasmussen     V      /MarleneAmbo\n",
       "..                       ...   ...               ...\n",
       "174            Lea  Wermelin     S      /LeaWermelin\n",
       "175          Susanne  Zimmer   UFG        /HeyYouSuz\n",
       "176             Fatma  Øktem     V      /fatmaoektem\n",
       "177            Orla  Østerby   UFG      /orlaosterby\n",
       "178  Anne Honoré  Østergaard     V      /AnneStergaa\n",
       "\n",
       "[179 rows x 3 columns]"
      ]
     },
     "execution_count": 78,
     "metadata": {},
     "output_type": "execute_result"
    }
   ],
   "source": [
    "data['Twitter_navn']=twitter_names\n",
    "data"
   ]
  },
  {
   "cell_type": "markdown",
   "id": "parental-inclusion",
   "metadata": {},
   "source": [
    "# Below I go through each Twitter username to see if it is indeed associated with the right parliament member and marks the ones that are not"
   ]
  },
  {
   "cell_type": "code",
   "execution_count": 350,
   "id": "stock-voluntary",
   "metadata": {},
   "outputs": [],
   "source": [
    "ite = iter(data['Twitter_navn'])\n",
    "n = 0\n",
    "bad = []\n",
    "bad_name = []"
   ]
  },
  {
   "cell_type": "code",
   "execution_count": 9,
   "id": "personal-athens",
   "metadata": {
    "collapsed": true
   },
   "outputs": [
    {
     "ename": "KeyboardInterrupt",
     "evalue": "",
     "output_type": "error",
     "traceback": [
      "\u001b[1;31m---------------------------------------------------------------------------\u001b[0m",
      "\u001b[1;31mKeyboardInterrupt\u001b[0m                         Traceback (most recent call last)",
      "\u001b[1;32m<ipython-input-9-c0957220c0ae>\u001b[0m in \u001b[0;36m<module>\u001b[1;34m\u001b[0m\n\u001b[0;32m      4\u001b[0m     \u001b[0murl\u001b[0m \u001b[1;33m=\u001b[0m \u001b[1;34m'http://twitter.com/'\u001b[0m\u001b[1;33m+\u001b[0m\u001b[0mstr\u001b[0m\u001b[1;33m(\u001b[0m\u001b[0ml\u001b[0m\u001b[1;33m)\u001b[0m\u001b[1;33m\u001b[0m\u001b[1;33m\u001b[0m\u001b[0m\n\u001b[0;32m      5\u001b[0m     \u001b[1;32mif\u001b[0m \u001b[0ml\u001b[0m \u001b[1;33m!=\u001b[0m \u001b[1;34m\"NaN\"\u001b[0m\u001b[1;33m:\u001b[0m\u001b[1;33m\u001b[0m\u001b[1;33m\u001b[0m\u001b[0m\n\u001b[1;32m----> 6\u001b[1;33m         \u001b[0mdriver\u001b[0m\u001b[1;33m.\u001b[0m\u001b[0mget\u001b[0m\u001b[1;33m(\u001b[0m\u001b[0murl\u001b[0m\u001b[1;33m)\u001b[0m\u001b[1;33m\u001b[0m\u001b[1;33m\u001b[0m\u001b[0m\n\u001b[0m\u001b[0;32m      7\u001b[0m     \u001b[0mtime\u001b[0m\u001b[1;33m.\u001b[0m\u001b[0msleep\u001b[0m\u001b[1;33m(\u001b[0m\u001b[1;36m2\u001b[0m\u001b[1;33m)\u001b[0m\u001b[1;33m\u001b[0m\u001b[1;33m\u001b[0m\u001b[0m\n",
      "\u001b[1;32m~\\miniconda3\\envs\\py38\\lib\\site-packages\\selenium\\webdriver\\remote\\webdriver.py\u001b[0m in \u001b[0;36mget\u001b[1;34m(self, url)\u001b[0m\n\u001b[0;32m    331\u001b[0m         \u001b[0mLoads\u001b[0m \u001b[0ma\u001b[0m \u001b[0mweb\u001b[0m \u001b[0mpage\u001b[0m \u001b[1;32min\u001b[0m \u001b[0mthe\u001b[0m \u001b[0mcurrent\u001b[0m \u001b[0mbrowser\u001b[0m \u001b[0msession\u001b[0m\u001b[1;33m.\u001b[0m\u001b[1;33m\u001b[0m\u001b[1;33m\u001b[0m\u001b[0m\n\u001b[0;32m    332\u001b[0m         \"\"\"\n\u001b[1;32m--> 333\u001b[1;33m         \u001b[0mself\u001b[0m\u001b[1;33m.\u001b[0m\u001b[0mexecute\u001b[0m\u001b[1;33m(\u001b[0m\u001b[0mCommand\u001b[0m\u001b[1;33m.\u001b[0m\u001b[0mGET\u001b[0m\u001b[1;33m,\u001b[0m \u001b[1;33m{\u001b[0m\u001b[1;34m'url'\u001b[0m\u001b[1;33m:\u001b[0m \u001b[0murl\u001b[0m\u001b[1;33m}\u001b[0m\u001b[1;33m)\u001b[0m\u001b[1;33m\u001b[0m\u001b[1;33m\u001b[0m\u001b[0m\n\u001b[0m\u001b[0;32m    334\u001b[0m \u001b[1;33m\u001b[0m\u001b[0m\n\u001b[0;32m    335\u001b[0m     \u001b[1;33m@\u001b[0m\u001b[0mproperty\u001b[0m\u001b[1;33m\u001b[0m\u001b[1;33m\u001b[0m\u001b[0m\n",
      "\u001b[1;32m~\\miniconda3\\envs\\py38\\lib\\site-packages\\selenium\\webdriver\\remote\\webdriver.py\u001b[0m in \u001b[0;36mexecute\u001b[1;34m(self, driver_command, params)\u001b[0m\n\u001b[0;32m    317\u001b[0m \u001b[1;33m\u001b[0m\u001b[0m\n\u001b[0;32m    318\u001b[0m         \u001b[0mparams\u001b[0m \u001b[1;33m=\u001b[0m \u001b[0mself\u001b[0m\u001b[1;33m.\u001b[0m\u001b[0m_wrap_value\u001b[0m\u001b[1;33m(\u001b[0m\u001b[0mparams\u001b[0m\u001b[1;33m)\u001b[0m\u001b[1;33m\u001b[0m\u001b[1;33m\u001b[0m\u001b[0m\n\u001b[1;32m--> 319\u001b[1;33m         \u001b[0mresponse\u001b[0m \u001b[1;33m=\u001b[0m \u001b[0mself\u001b[0m\u001b[1;33m.\u001b[0m\u001b[0mcommand_executor\u001b[0m\u001b[1;33m.\u001b[0m\u001b[0mexecute\u001b[0m\u001b[1;33m(\u001b[0m\u001b[0mdriver_command\u001b[0m\u001b[1;33m,\u001b[0m \u001b[0mparams\u001b[0m\u001b[1;33m)\u001b[0m\u001b[1;33m\u001b[0m\u001b[1;33m\u001b[0m\u001b[0m\n\u001b[0m\u001b[0;32m    320\u001b[0m         \u001b[1;32mif\u001b[0m \u001b[0mresponse\u001b[0m\u001b[1;33m:\u001b[0m\u001b[1;33m\u001b[0m\u001b[1;33m\u001b[0m\u001b[0m\n\u001b[0;32m    321\u001b[0m             \u001b[0mself\u001b[0m\u001b[1;33m.\u001b[0m\u001b[0merror_handler\u001b[0m\u001b[1;33m.\u001b[0m\u001b[0mcheck_response\u001b[0m\u001b[1;33m(\u001b[0m\u001b[0mresponse\u001b[0m\u001b[1;33m)\u001b[0m\u001b[1;33m\u001b[0m\u001b[1;33m\u001b[0m\u001b[0m\n",
      "\u001b[1;32m~\\miniconda3\\envs\\py38\\lib\\site-packages\\selenium\\webdriver\\remote\\remote_connection.py\u001b[0m in \u001b[0;36mexecute\u001b[1;34m(self, command, params)\u001b[0m\n\u001b[0;32m    372\u001b[0m         \u001b[0mdata\u001b[0m \u001b[1;33m=\u001b[0m \u001b[0mutils\u001b[0m\u001b[1;33m.\u001b[0m\u001b[0mdump_json\u001b[0m\u001b[1;33m(\u001b[0m\u001b[0mparams\u001b[0m\u001b[1;33m)\u001b[0m\u001b[1;33m\u001b[0m\u001b[1;33m\u001b[0m\u001b[0m\n\u001b[0;32m    373\u001b[0m         \u001b[0murl\u001b[0m \u001b[1;33m=\u001b[0m \u001b[1;34m'%s%s'\u001b[0m \u001b[1;33m%\u001b[0m \u001b[1;33m(\u001b[0m\u001b[0mself\u001b[0m\u001b[1;33m.\u001b[0m\u001b[0m_url\u001b[0m\u001b[1;33m,\u001b[0m \u001b[0mpath\u001b[0m\u001b[1;33m)\u001b[0m\u001b[1;33m\u001b[0m\u001b[1;33m\u001b[0m\u001b[0m\n\u001b[1;32m--> 374\u001b[1;33m         \u001b[1;32mreturn\u001b[0m \u001b[0mself\u001b[0m\u001b[1;33m.\u001b[0m\u001b[0m_request\u001b[0m\u001b[1;33m(\u001b[0m\u001b[0mcommand_info\u001b[0m\u001b[1;33m[\u001b[0m\u001b[1;36m0\u001b[0m\u001b[1;33m]\u001b[0m\u001b[1;33m,\u001b[0m \u001b[0murl\u001b[0m\u001b[1;33m,\u001b[0m \u001b[0mbody\u001b[0m\u001b[1;33m=\u001b[0m\u001b[0mdata\u001b[0m\u001b[1;33m)\u001b[0m\u001b[1;33m\u001b[0m\u001b[1;33m\u001b[0m\u001b[0m\n\u001b[0m\u001b[0;32m    375\u001b[0m \u001b[1;33m\u001b[0m\u001b[0m\n\u001b[0;32m    376\u001b[0m     \u001b[1;32mdef\u001b[0m \u001b[0m_request\u001b[0m\u001b[1;33m(\u001b[0m\u001b[0mself\u001b[0m\u001b[1;33m,\u001b[0m \u001b[0mmethod\u001b[0m\u001b[1;33m,\u001b[0m \u001b[0murl\u001b[0m\u001b[1;33m,\u001b[0m \u001b[0mbody\u001b[0m\u001b[1;33m=\u001b[0m\u001b[1;32mNone\u001b[0m\u001b[1;33m)\u001b[0m\u001b[1;33m:\u001b[0m\u001b[1;33m\u001b[0m\u001b[1;33m\u001b[0m\u001b[0m\n",
      "\u001b[1;32m~\\miniconda3\\envs\\py38\\lib\\site-packages\\selenium\\webdriver\\remote\\remote_connection.py\u001b[0m in \u001b[0;36m_request\u001b[1;34m(self, method, url, body)\u001b[0m\n\u001b[0;32m    395\u001b[0m \u001b[1;33m\u001b[0m\u001b[0m\n\u001b[0;32m    396\u001b[0m         \u001b[1;32mif\u001b[0m \u001b[0mself\u001b[0m\u001b[1;33m.\u001b[0m\u001b[0mkeep_alive\u001b[0m\u001b[1;33m:\u001b[0m\u001b[1;33m\u001b[0m\u001b[1;33m\u001b[0m\u001b[0m\n\u001b[1;32m--> 397\u001b[1;33m             \u001b[0mresp\u001b[0m \u001b[1;33m=\u001b[0m \u001b[0mself\u001b[0m\u001b[1;33m.\u001b[0m\u001b[0m_conn\u001b[0m\u001b[1;33m.\u001b[0m\u001b[0mrequest\u001b[0m\u001b[1;33m(\u001b[0m\u001b[0mmethod\u001b[0m\u001b[1;33m,\u001b[0m \u001b[0murl\u001b[0m\u001b[1;33m,\u001b[0m \u001b[0mbody\u001b[0m\u001b[1;33m=\u001b[0m\u001b[0mbody\u001b[0m\u001b[1;33m,\u001b[0m \u001b[0mheaders\u001b[0m\u001b[1;33m=\u001b[0m\u001b[0mheaders\u001b[0m\u001b[1;33m)\u001b[0m\u001b[1;33m\u001b[0m\u001b[1;33m\u001b[0m\u001b[0m\n\u001b[0m\u001b[0;32m    398\u001b[0m \u001b[1;33m\u001b[0m\u001b[0m\n\u001b[0;32m    399\u001b[0m             \u001b[0mstatuscode\u001b[0m \u001b[1;33m=\u001b[0m \u001b[0mresp\u001b[0m\u001b[1;33m.\u001b[0m\u001b[0mstatus\u001b[0m\u001b[1;33m\u001b[0m\u001b[1;33m\u001b[0m\u001b[0m\n",
      "\u001b[1;32m~\\miniconda3\\envs\\py38\\lib\\site-packages\\urllib3\\request.py\u001b[0m in \u001b[0;36mrequest\u001b[1;34m(self, method, url, fields, headers, **urlopen_kw)\u001b[0m\n\u001b[0;32m     76\u001b[0m             )\n\u001b[0;32m     77\u001b[0m         \u001b[1;32melse\u001b[0m\u001b[1;33m:\u001b[0m\u001b[1;33m\u001b[0m\u001b[1;33m\u001b[0m\u001b[0m\n\u001b[1;32m---> 78\u001b[1;33m             return self.request_encode_body(\n\u001b[0m\u001b[0;32m     79\u001b[0m                 \u001b[0mmethod\u001b[0m\u001b[1;33m,\u001b[0m \u001b[0murl\u001b[0m\u001b[1;33m,\u001b[0m \u001b[0mfields\u001b[0m\u001b[1;33m=\u001b[0m\u001b[0mfields\u001b[0m\u001b[1;33m,\u001b[0m \u001b[0mheaders\u001b[0m\u001b[1;33m=\u001b[0m\u001b[0mheaders\u001b[0m\u001b[1;33m,\u001b[0m \u001b[1;33m**\u001b[0m\u001b[0murlopen_kw\u001b[0m\u001b[1;33m\u001b[0m\u001b[1;33m\u001b[0m\u001b[0m\n\u001b[0;32m     80\u001b[0m             )\n",
      "\u001b[1;32m~\\miniconda3\\envs\\py38\\lib\\site-packages\\urllib3\\request.py\u001b[0m in \u001b[0;36mrequest_encode_body\u001b[1;34m(self, method, url, fields, headers, encode_multipart, multipart_boundary, **urlopen_kw)\u001b[0m\n\u001b[0;32m    168\u001b[0m         \u001b[0mextra_kw\u001b[0m\u001b[1;33m.\u001b[0m\u001b[0mupdate\u001b[0m\u001b[1;33m(\u001b[0m\u001b[0murlopen_kw\u001b[0m\u001b[1;33m)\u001b[0m\u001b[1;33m\u001b[0m\u001b[1;33m\u001b[0m\u001b[0m\n\u001b[0;32m    169\u001b[0m \u001b[1;33m\u001b[0m\u001b[0m\n\u001b[1;32m--> 170\u001b[1;33m         \u001b[1;32mreturn\u001b[0m \u001b[0mself\u001b[0m\u001b[1;33m.\u001b[0m\u001b[0murlopen\u001b[0m\u001b[1;33m(\u001b[0m\u001b[0mmethod\u001b[0m\u001b[1;33m,\u001b[0m \u001b[0murl\u001b[0m\u001b[1;33m,\u001b[0m \u001b[1;33m**\u001b[0m\u001b[0mextra_kw\u001b[0m\u001b[1;33m)\u001b[0m\u001b[1;33m\u001b[0m\u001b[1;33m\u001b[0m\u001b[0m\n\u001b[0m",
      "\u001b[1;32m~\\miniconda3\\envs\\py38\\lib\\site-packages\\urllib3\\poolmanager.py\u001b[0m in \u001b[0;36murlopen\u001b[1;34m(self, method, url, redirect, **kw)\u001b[0m\n\u001b[0;32m    373\u001b[0m             \u001b[0mresponse\u001b[0m \u001b[1;33m=\u001b[0m \u001b[0mconn\u001b[0m\u001b[1;33m.\u001b[0m\u001b[0murlopen\u001b[0m\u001b[1;33m(\u001b[0m\u001b[0mmethod\u001b[0m\u001b[1;33m,\u001b[0m \u001b[0murl\u001b[0m\u001b[1;33m,\u001b[0m \u001b[1;33m**\u001b[0m\u001b[0mkw\u001b[0m\u001b[1;33m)\u001b[0m\u001b[1;33m\u001b[0m\u001b[1;33m\u001b[0m\u001b[0m\n\u001b[0;32m    374\u001b[0m         \u001b[1;32melse\u001b[0m\u001b[1;33m:\u001b[0m\u001b[1;33m\u001b[0m\u001b[1;33m\u001b[0m\u001b[0m\n\u001b[1;32m--> 375\u001b[1;33m             \u001b[0mresponse\u001b[0m \u001b[1;33m=\u001b[0m \u001b[0mconn\u001b[0m\u001b[1;33m.\u001b[0m\u001b[0murlopen\u001b[0m\u001b[1;33m(\u001b[0m\u001b[0mmethod\u001b[0m\u001b[1;33m,\u001b[0m \u001b[0mu\u001b[0m\u001b[1;33m.\u001b[0m\u001b[0mrequest_uri\u001b[0m\u001b[1;33m,\u001b[0m \u001b[1;33m**\u001b[0m\u001b[0mkw\u001b[0m\u001b[1;33m)\u001b[0m\u001b[1;33m\u001b[0m\u001b[1;33m\u001b[0m\u001b[0m\n\u001b[0m\u001b[0;32m    376\u001b[0m \u001b[1;33m\u001b[0m\u001b[0m\n\u001b[0;32m    377\u001b[0m         \u001b[0mredirect_location\u001b[0m \u001b[1;33m=\u001b[0m \u001b[0mredirect\u001b[0m \u001b[1;32mand\u001b[0m \u001b[0mresponse\u001b[0m\u001b[1;33m.\u001b[0m\u001b[0mget_redirect_location\u001b[0m\u001b[1;33m(\u001b[0m\u001b[1;33m)\u001b[0m\u001b[1;33m\u001b[0m\u001b[1;33m\u001b[0m\u001b[0m\n",
      "\u001b[1;32m~\\miniconda3\\envs\\py38\\lib\\site-packages\\urllib3\\connectionpool.py\u001b[0m in \u001b[0;36murlopen\u001b[1;34m(self, method, url, body, headers, retries, redirect, assert_same_host, timeout, pool_timeout, release_conn, chunked, body_pos, **response_kw)\u001b[0m\n\u001b[0;32m    697\u001b[0m \u001b[1;33m\u001b[0m\u001b[0m\n\u001b[0;32m    698\u001b[0m             \u001b[1;31m# Make the request on the httplib connection object.\u001b[0m\u001b[1;33m\u001b[0m\u001b[1;33m\u001b[0m\u001b[1;33m\u001b[0m\u001b[0m\n\u001b[1;32m--> 699\u001b[1;33m             httplib_response = self._make_request(\n\u001b[0m\u001b[0;32m    700\u001b[0m                 \u001b[0mconn\u001b[0m\u001b[1;33m,\u001b[0m\u001b[1;33m\u001b[0m\u001b[1;33m\u001b[0m\u001b[0m\n\u001b[0;32m    701\u001b[0m                 \u001b[0mmethod\u001b[0m\u001b[1;33m,\u001b[0m\u001b[1;33m\u001b[0m\u001b[1;33m\u001b[0m\u001b[0m\n",
      "\u001b[1;32m~\\miniconda3\\envs\\py38\\lib\\site-packages\\urllib3\\connectionpool.py\u001b[0m in \u001b[0;36m_make_request\u001b[1;34m(self, conn, method, url, timeout, chunked, **httplib_request_kw)\u001b[0m\n\u001b[0;32m    443\u001b[0m                     \u001b[1;31m# Python 3 (including for exceptions like SystemExit).\u001b[0m\u001b[1;33m\u001b[0m\u001b[1;33m\u001b[0m\u001b[1;33m\u001b[0m\u001b[0m\n\u001b[0;32m    444\u001b[0m                     \u001b[1;31m# Otherwise it looks like a bug in the code.\u001b[0m\u001b[1;33m\u001b[0m\u001b[1;33m\u001b[0m\u001b[1;33m\u001b[0m\u001b[0m\n\u001b[1;32m--> 445\u001b[1;33m                     \u001b[0msix\u001b[0m\u001b[1;33m.\u001b[0m\u001b[0mraise_from\u001b[0m\u001b[1;33m(\u001b[0m\u001b[0me\u001b[0m\u001b[1;33m,\u001b[0m \u001b[1;32mNone\u001b[0m\u001b[1;33m)\u001b[0m\u001b[1;33m\u001b[0m\u001b[1;33m\u001b[0m\u001b[0m\n\u001b[0m\u001b[0;32m    446\u001b[0m         \u001b[1;32mexcept\u001b[0m \u001b[1;33m(\u001b[0m\u001b[0mSocketTimeout\u001b[0m\u001b[1;33m,\u001b[0m \u001b[0mBaseSSLError\u001b[0m\u001b[1;33m,\u001b[0m \u001b[0mSocketError\u001b[0m\u001b[1;33m)\u001b[0m \u001b[1;32mas\u001b[0m \u001b[0me\u001b[0m\u001b[1;33m:\u001b[0m\u001b[1;33m\u001b[0m\u001b[1;33m\u001b[0m\u001b[0m\n\u001b[0;32m    447\u001b[0m             \u001b[0mself\u001b[0m\u001b[1;33m.\u001b[0m\u001b[0m_raise_timeout\u001b[0m\u001b[1;33m(\u001b[0m\u001b[0merr\u001b[0m\u001b[1;33m=\u001b[0m\u001b[0me\u001b[0m\u001b[1;33m,\u001b[0m \u001b[0murl\u001b[0m\u001b[1;33m=\u001b[0m\u001b[0murl\u001b[0m\u001b[1;33m,\u001b[0m \u001b[0mtimeout_value\u001b[0m\u001b[1;33m=\u001b[0m\u001b[0mread_timeout\u001b[0m\u001b[1;33m)\u001b[0m\u001b[1;33m\u001b[0m\u001b[1;33m\u001b[0m\u001b[0m\n",
      "\u001b[1;32m~\\miniconda3\\envs\\py38\\lib\\site-packages\\urllib3\\packages\\six.py\u001b[0m in \u001b[0;36mraise_from\u001b[1;34m(value, from_value)\u001b[0m\n",
      "\u001b[1;32m~\\miniconda3\\envs\\py38\\lib\\site-packages\\urllib3\\connectionpool.py\u001b[0m in \u001b[0;36m_make_request\u001b[1;34m(self, conn, method, url, timeout, chunked, **httplib_request_kw)\u001b[0m\n\u001b[0;32m    438\u001b[0m                 \u001b[1;31m# Python 3\u001b[0m\u001b[1;33m\u001b[0m\u001b[1;33m\u001b[0m\u001b[1;33m\u001b[0m\u001b[0m\n\u001b[0;32m    439\u001b[0m                 \u001b[1;32mtry\u001b[0m\u001b[1;33m:\u001b[0m\u001b[1;33m\u001b[0m\u001b[1;33m\u001b[0m\u001b[0m\n\u001b[1;32m--> 440\u001b[1;33m                     \u001b[0mhttplib_response\u001b[0m \u001b[1;33m=\u001b[0m \u001b[0mconn\u001b[0m\u001b[1;33m.\u001b[0m\u001b[0mgetresponse\u001b[0m\u001b[1;33m(\u001b[0m\u001b[1;33m)\u001b[0m\u001b[1;33m\u001b[0m\u001b[1;33m\u001b[0m\u001b[0m\n\u001b[0m\u001b[0;32m    441\u001b[0m                 \u001b[1;32mexcept\u001b[0m \u001b[0mBaseException\u001b[0m \u001b[1;32mas\u001b[0m \u001b[0me\u001b[0m\u001b[1;33m:\u001b[0m\u001b[1;33m\u001b[0m\u001b[1;33m\u001b[0m\u001b[0m\n\u001b[0;32m    442\u001b[0m                     \u001b[1;31m# Remove the TypeError from the exception chain in\u001b[0m\u001b[1;33m\u001b[0m\u001b[1;33m\u001b[0m\u001b[1;33m\u001b[0m\u001b[0m\n",
      "\u001b[1;32m~\\miniconda3\\envs\\py38\\lib\\http\\client.py\u001b[0m in \u001b[0;36mgetresponse\u001b[1;34m(self)\u001b[0m\n\u001b[0;32m   1345\u001b[0m         \u001b[1;32mtry\u001b[0m\u001b[1;33m:\u001b[0m\u001b[1;33m\u001b[0m\u001b[1;33m\u001b[0m\u001b[0m\n\u001b[0;32m   1346\u001b[0m             \u001b[1;32mtry\u001b[0m\u001b[1;33m:\u001b[0m\u001b[1;33m\u001b[0m\u001b[1;33m\u001b[0m\u001b[0m\n\u001b[1;32m-> 1347\u001b[1;33m                 \u001b[0mresponse\u001b[0m\u001b[1;33m.\u001b[0m\u001b[0mbegin\u001b[0m\u001b[1;33m(\u001b[0m\u001b[1;33m)\u001b[0m\u001b[1;33m\u001b[0m\u001b[1;33m\u001b[0m\u001b[0m\n\u001b[0m\u001b[0;32m   1348\u001b[0m             \u001b[1;32mexcept\u001b[0m \u001b[0mConnectionError\u001b[0m\u001b[1;33m:\u001b[0m\u001b[1;33m\u001b[0m\u001b[1;33m\u001b[0m\u001b[0m\n\u001b[0;32m   1349\u001b[0m                 \u001b[0mself\u001b[0m\u001b[1;33m.\u001b[0m\u001b[0mclose\u001b[0m\u001b[1;33m(\u001b[0m\u001b[1;33m)\u001b[0m\u001b[1;33m\u001b[0m\u001b[1;33m\u001b[0m\u001b[0m\n",
      "\u001b[1;32m~\\miniconda3\\envs\\py38\\lib\\http\\client.py\u001b[0m in \u001b[0;36mbegin\u001b[1;34m(self)\u001b[0m\n\u001b[0;32m    305\u001b[0m         \u001b[1;31m# read until we get a non-100 response\u001b[0m\u001b[1;33m\u001b[0m\u001b[1;33m\u001b[0m\u001b[1;33m\u001b[0m\u001b[0m\n\u001b[0;32m    306\u001b[0m         \u001b[1;32mwhile\u001b[0m \u001b[1;32mTrue\u001b[0m\u001b[1;33m:\u001b[0m\u001b[1;33m\u001b[0m\u001b[1;33m\u001b[0m\u001b[0m\n\u001b[1;32m--> 307\u001b[1;33m             \u001b[0mversion\u001b[0m\u001b[1;33m,\u001b[0m \u001b[0mstatus\u001b[0m\u001b[1;33m,\u001b[0m \u001b[0mreason\u001b[0m \u001b[1;33m=\u001b[0m \u001b[0mself\u001b[0m\u001b[1;33m.\u001b[0m\u001b[0m_read_status\u001b[0m\u001b[1;33m(\u001b[0m\u001b[1;33m)\u001b[0m\u001b[1;33m\u001b[0m\u001b[1;33m\u001b[0m\u001b[0m\n\u001b[0m\u001b[0;32m    308\u001b[0m             \u001b[1;32mif\u001b[0m \u001b[0mstatus\u001b[0m \u001b[1;33m!=\u001b[0m \u001b[0mCONTINUE\u001b[0m\u001b[1;33m:\u001b[0m\u001b[1;33m\u001b[0m\u001b[1;33m\u001b[0m\u001b[0m\n\u001b[0;32m    309\u001b[0m                 \u001b[1;32mbreak\u001b[0m\u001b[1;33m\u001b[0m\u001b[1;33m\u001b[0m\u001b[0m\n",
      "\u001b[1;32m~\\miniconda3\\envs\\py38\\lib\\http\\client.py\u001b[0m in \u001b[0;36m_read_status\u001b[1;34m(self)\u001b[0m\n\u001b[0;32m    266\u001b[0m \u001b[1;33m\u001b[0m\u001b[0m\n\u001b[0;32m    267\u001b[0m     \u001b[1;32mdef\u001b[0m \u001b[0m_read_status\u001b[0m\u001b[1;33m(\u001b[0m\u001b[0mself\u001b[0m\u001b[1;33m)\u001b[0m\u001b[1;33m:\u001b[0m\u001b[1;33m\u001b[0m\u001b[1;33m\u001b[0m\u001b[0m\n\u001b[1;32m--> 268\u001b[1;33m         \u001b[0mline\u001b[0m \u001b[1;33m=\u001b[0m \u001b[0mstr\u001b[0m\u001b[1;33m(\u001b[0m\u001b[0mself\u001b[0m\u001b[1;33m.\u001b[0m\u001b[0mfp\u001b[0m\u001b[1;33m.\u001b[0m\u001b[0mreadline\u001b[0m\u001b[1;33m(\u001b[0m\u001b[0m_MAXLINE\u001b[0m \u001b[1;33m+\u001b[0m \u001b[1;36m1\u001b[0m\u001b[1;33m)\u001b[0m\u001b[1;33m,\u001b[0m \u001b[1;34m\"iso-8859-1\"\u001b[0m\u001b[1;33m)\u001b[0m\u001b[1;33m\u001b[0m\u001b[1;33m\u001b[0m\u001b[0m\n\u001b[0m\u001b[0;32m    269\u001b[0m         \u001b[1;32mif\u001b[0m \u001b[0mlen\u001b[0m\u001b[1;33m(\u001b[0m\u001b[0mline\u001b[0m\u001b[1;33m)\u001b[0m \u001b[1;33m>\u001b[0m \u001b[0m_MAXLINE\u001b[0m\u001b[1;33m:\u001b[0m\u001b[1;33m\u001b[0m\u001b[1;33m\u001b[0m\u001b[0m\n\u001b[0;32m    270\u001b[0m             \u001b[1;32mraise\u001b[0m \u001b[0mLineTooLong\u001b[0m\u001b[1;33m(\u001b[0m\u001b[1;34m\"status line\"\u001b[0m\u001b[1;33m)\u001b[0m\u001b[1;33m\u001b[0m\u001b[1;33m\u001b[0m\u001b[0m\n",
      "\u001b[1;32m~\\miniconda3\\envs\\py38\\lib\\socket.py\u001b[0m in \u001b[0;36mreadinto\u001b[1;34m(self, b)\u001b[0m\n\u001b[0;32m    702\u001b[0m         \u001b[1;32mwhile\u001b[0m \u001b[1;32mTrue\u001b[0m\u001b[1;33m:\u001b[0m\u001b[1;33m\u001b[0m\u001b[1;33m\u001b[0m\u001b[0m\n\u001b[0;32m    703\u001b[0m             \u001b[1;32mtry\u001b[0m\u001b[1;33m:\u001b[0m\u001b[1;33m\u001b[0m\u001b[1;33m\u001b[0m\u001b[0m\n\u001b[1;32m--> 704\u001b[1;33m                 \u001b[1;32mreturn\u001b[0m \u001b[0mself\u001b[0m\u001b[1;33m.\u001b[0m\u001b[0m_sock\u001b[0m\u001b[1;33m.\u001b[0m\u001b[0mrecv_into\u001b[0m\u001b[1;33m(\u001b[0m\u001b[0mb\u001b[0m\u001b[1;33m)\u001b[0m\u001b[1;33m\u001b[0m\u001b[1;33m\u001b[0m\u001b[0m\n\u001b[0m\u001b[0;32m    705\u001b[0m             \u001b[1;32mexcept\u001b[0m \u001b[0mtimeout\u001b[0m\u001b[1;33m:\u001b[0m\u001b[1;33m\u001b[0m\u001b[1;33m\u001b[0m\u001b[0m\n\u001b[0;32m    706\u001b[0m                 \u001b[0mself\u001b[0m\u001b[1;33m.\u001b[0m\u001b[0m_timeout_occurred\u001b[0m \u001b[1;33m=\u001b[0m \u001b[1;32mTrue\u001b[0m\u001b[1;33m\u001b[0m\u001b[1;33m\u001b[0m\u001b[0m\n",
      "\u001b[1;31mKeyboardInterrupt\u001b[0m: "
     ]
    }
   ],
   "source": [
    "ite = iter(data['Twitter_navn'])\n",
    "for i in range(0,179,1):\n",
    "    l = next(ite)\n",
    "    url = 'http://twitter.com/'+str(l)\n",
    "    if l != \"NaN\":\n",
    "        driver.get(url)\n",
    "    time.sleep(2)"
   ]
  },
  {
   "cell_type": "code",
   "execution_count": 540,
   "id": "parliamentary-australian",
   "metadata": {},
   "outputs": [
    {
     "name": "stdout",
     "output_type": "stream",
     "text": [
      "175 /HeyYouSuz\n",
      "176 /fatmaoektem\n"
     ]
    }
   ],
   "source": [
    "\"\"\"Run this to add the current 'n' to the list of bad names\"\"\"\n",
    "bad.append(n-1)\n",
    "bad_name.append(l)\n",
    "print(bad[-1],bad_name[-1])\n",
    "\n",
    "l = next(ite)\n",
    "url = 'http://twitter.com/'+str(l)\n",
    "if l != \"NaN\":\n",
    "    driver.get(url)\n",
    "print(n,l)\n",
    "n+=1"
   ]
  },
  {
   "cell_type": "code",
   "execution_count": 91,
   "id": "behavioral-hybrid",
   "metadata": {},
   "outputs": [],
   "source": [
    "driver.quit()"
   ]
  },
  {
   "cell_type": "code",
   "execution_count": 359,
   "id": "atomic-belly",
   "metadata": {
    "scrolled": true
   },
   "outputs": [
    {
     "name": "stdout",
     "output_type": "stream",
     "text": [
      "/4Ammitzb\n",
      "['/4Ammitzb']\n"
     ]
    }
   ],
   "source": [
    "for i in bad:\n",
    "    print(data['Twitter_navn'][i])\n",
    "print(bad_name)"
   ]
  },
  {
   "cell_type": "code",
   "execution_count": 550,
   "id": "acute-standard",
   "metadata": {},
   "outputs": [
    {
     "data": {
      "text/plain": [
       "59"
      ]
     },
     "execution_count": 550,
     "metadata": {},
     "output_type": "execute_result"
    }
   ],
   "source": [
    "j = 0\n",
    "for e in data['Twitter_navn']:\n",
    "    if e == 'NaN':\n",
    "        j+=1\n",
    "j"
   ]
  },
  {
   "cell_type": "code",
   "execution_count": 544,
   "id": "novel-color",
   "metadata": {},
   "outputs": [],
   "source": [
    "for i in bad:\n",
    "    data['Twitter_navn'][i] = 'NaN'"
   ]
  },
  {
   "cell_type": "markdown",
   "id": "third-upgrade",
   "metadata": {},
   "source": [
    "# Below is the tools i used for manually going through the missing usernames"
   ]
  },
  {
   "cell_type": "code",
   "execution_count": 573,
   "id": "interracial-humanitarian",
   "metadata": {},
   "outputs": [],
   "source": [
    "\"\"\"This function does the same thing as the one above, but only navigates to the People section without extracting any names\"\"\"\n",
    "\n",
    "def search_twitter_ny(folketings_medlem):\n",
    "    search = driver.find_element_by_xpath(\"//input[@placeholder='Search Twitter']\")\n",
    "    time.sleep(0.5)\n",
    "    search.clear()\n",
    "    time.sleep(0.5)\n",
    "    search.clear()\n",
    "    search.send_keys(folketings_medlem)\n",
    "    search.send_keys(Keys.RETURN)\n",
    "    time.sleep(0.5)\n",
    "    people = driver.find_element_by_link_text('People')\n",
    "    people.click()\n",
    "\n",
    "    time.sleep(0.5)"
   ]
  },
  {
   "cell_type": "code",
   "execution_count": 700,
   "id": "pretty-finding",
   "metadata": {},
   "outputs": [],
   "source": [
    "navne = []\n",
    "indexer = []\n",
    "for i, e in enumerate(data['Twitter_navn']):\n",
    "    if e == 'NaN':\n",
    "        navne.append(data['Medlem'][i])\n",
    "        indexer.append(i)"
   ]
  },
  {
   "cell_type": "code",
   "execution_count": 580,
   "id": "electrical-ensemble",
   "metadata": {},
   "outputs": [],
   "source": [
    "\"\"\"Defining constants for going through the list of names\"\"\"\n",
    "ite = iter(navne)\n",
    "ite2 = iter(indexer)"
   ]
  },
  {
   "cell_type": "code",
   "execution_count": 699,
   "id": "diverse-walker",
   "metadata": {},
   "outputs": [
    {
     "ename": "StopIteration",
     "evalue": "",
     "output_type": "error",
     "traceback": [
      "\u001b[1;31m---------------------------------------------------------------------------\u001b[0m",
      "\u001b[1;31mStopIteration\u001b[0m                             Traceback (most recent call last)",
      "\u001b[1;32m<ipython-input-699-cb8034e3fdfc>\u001b[0m in \u001b[0;36m<module>\u001b[1;34m\u001b[0m\n\u001b[1;32m----> 1\u001b[1;33m \u001b[0msearch_twitter_ny\u001b[0m\u001b[1;33m(\u001b[0m\u001b[0mnext\u001b[0m\u001b[1;33m(\u001b[0m\u001b[0mite\u001b[0m\u001b[1;33m)\u001b[0m\u001b[1;33m)\u001b[0m\u001b[1;33m\u001b[0m\u001b[1;33m\u001b[0m\u001b[0m\n\u001b[0m",
      "\u001b[1;31mStopIteration\u001b[0m: "
     ]
    }
   ],
   "source": [
    "\"\"\"Run this function to search for the next name on the list\"\"\"\n",
    "search_twitter_ny(next(ite))"
   ]
  },
  {
   "cell_type": "code",
   "execution_count": 698,
   "id": "listed-appendix",
   "metadata": {},
   "outputs": [
    {
     "data": {
      "text/plain": [
       "'Susanne  Zimmer'"
      ]
     },
     "execution_count": 698,
     "metadata": {},
     "output_type": "execute_result"
    }
   ],
   "source": [
    "\"\"\"Use this function to insert the right name into the DataFrame\"\"\"\n",
    "\n",
    "navn = 'Susanne_Zimmer_'\n",
    "i = next(ite2)\n",
    "data['Twitter_navn'][i] = navn\n",
    "data['Medlem'][i]"
   ]
  },
  {
   "cell_type": "code",
   "execution_count": 719,
   "id": "polar-castle",
   "metadata": {},
   "outputs": [],
   "source": [
    "for i, e in enumerate(data['Twitter_navn']):\n",
    "    if str(e)[0] != '/':\n",
    "        s = '/'+str(e)\n",
    "        data['Twitter_navn'][i] = s"
   ]
  },
  {
   "cell_type": "code",
   "execution_count": 720,
   "id": "recent-housing",
   "metadata": {},
   "outputs": [],
   "source": [
    "for i, e in enumerate(data['Twitter_navn']):\n",
    "    if e != 'NaN':\n",
    "        url = 'http://twitter.com'+e\n",
    "        driver.get(url)\n",
    "        time.sleep(2)"
   ]
  },
  {
   "cell_type": "code",
   "execution_count": 727,
   "id": "driven-footage",
   "metadata": {},
   "outputs": [
    {
     "name": "stdout",
     "output_type": "stream",
     "text": [
      "Katarina  Ammitzbøll\n",
      "Hans  Andersen\n",
      "Theresa Berg  Andersen\n"
     ]
    }
   ],
   "source": [
    "list = [5,7,9]\n",
    "for e in list:\n",
    "    print(data['Medlem'][e])"
   ]
  },
  {
   "cell_type": "code",
   "execution_count": 729,
   "id": "advance-individual",
   "metadata": {},
   "outputs": [],
   "source": [
    "data['Twitter_navn'][7] = '/HansAndersenV'"
   ]
  }
 ],
 "metadata": {
  "kernelspec": {
   "display_name": "Python 3",
   "language": "python",
   "name": "python3"
  },
  "language_info": {
   "codemirror_mode": {
    "name": "ipython",
    "version": 3
   },
   "file_extension": ".py",
   "mimetype": "text/x-python",
   "name": "python",
   "nbconvert_exporter": "python",
   "pygments_lexer": "ipython3",
   "version": "3.9.1"
  }
 },
 "nbformat": 4,
 "nbformat_minor": 5
}
