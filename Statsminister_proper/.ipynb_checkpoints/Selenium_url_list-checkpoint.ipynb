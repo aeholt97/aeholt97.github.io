{
 "cells": [
  {
   "cell_type": "markdown",
   "id": "bigger-blogger",
   "metadata": {},
   "source": [
    "# This document is for making a list of documents to parse to a webscraper\n",
    "## This will be done using the Selenium Chrome Driver and BeautifulSoup"
   ]
  },
  {
   "cell_type": "code",
   "execution_count": null,
   "id": "applied-persian",
   "metadata": {},
   "outputs": [],
   "source": [
    "from selenium import webdriver\n",
    "from selenium.webdriver.common.keys import Keys\n",
    "from selenium.webdriver.common.by import By\n",
    "from selenium.webdriver.support.ui import WebDriverWait\n",
    "from selenium.webdriver.support import expected_conditions as EC\n",
    "\n",
    "from bs4 import BeautifulSoup\n",
    "import time"
   ]
  },
  {
   "cell_type": "markdown",
   "id": "connected-opposition",
   "metadata": {},
   "source": [
    "## This first part is for testing things individually and showing how the extraction works"
   ]
  },
  {
   "cell_type": "code",
   "execution_count": null,
   "id": "fundamental-palace",
   "metadata": {},
   "outputs": [],
   "source": [
    "PATH = \"C:\\Program Files (x86)\\Chromedriver_88\\chromedriver.exe\""
   ]
  },
  {
   "cell_type": "code",
   "execution_count": null,
   "id": "announced-intent",
   "metadata": {},
   "outputs": [],
   "source": [
    "driver = webdriver.Chrome(PATH)\n",
    "driver.get(\"https://www.stm.dk/statsministeren/taler/\")\n",
    "print(driver.title)"
   ]
  },
  {
   "cell_type": "code",
   "execution_count": null,
   "id": "hawaiian-exploration",
   "metadata": {},
   "outputs": [],
   "source": [
    "CURRENT_PAGE = driver.page_source\n",
    "print(CURRENT_PAGE)"
   ]
  },
  {
   "cell_type": "code",
   "execution_count": null,
   "id": "applied-discrimination",
   "metadata": {
    "scrolled": true
   },
   "outputs": [],
   "source": [
    "# Modules for web-parsing\n",
    "import requests\n",
    "from bs4 import BeautifulSoup\n",
    "    \n",
    "'''Returns text data from website'''\n",
    "page = CURRENT_PAGE\n",
    "soup = BeautifulSoup(page, \"lxml\")\n",
    "text = soup.find_all('a')\n",
    "text"
   ]
  },
  {
   "cell_type": "code",
   "execution_count": null,
   "id": "asian-avenue",
   "metadata": {},
   "outputs": [],
   "source": [
    "new_list = []\n",
    "for element in text:\n",
    "    if '<a href=\"/statsministeren/taler/' in str(element) and 'tabindex' in str(element):\n",
    "        new_list.append(element)\n",
    "print(len(text))\n",
    "print(len(new_list))"
   ]
  },
  {
   "cell_type": "code",
   "execution_count": null,
   "id": "integral-pacific",
   "metadata": {},
   "outputs": [],
   "source": [
    "for a in new_list:\n",
    "    a = str(a).split('tabindex')[0][10:]\n",
    "    a = 'http://stm.dk/'+a[:-2]\n",
    "    if a != \"http://stm.dk/statsministeren/taler/\":\n",
    "        print(str(a))"
   ]
  },
  {
   "cell_type": "markdown",
   "id": "compressed-swift",
   "metadata": {},
   "source": [
    "## Adding it all together and automating the process"
   ]
  },
  {
   "cell_type": "code",
   "execution_count": null,
   "id": "medical-forwarding",
   "metadata": {},
   "outputs": [],
   "source": [
    "'''First we import modules for HTML manipulation and instantiate the driver'''\n",
    "import requests\n",
    "from bs4 import BeautifulSoup\n",
    "driver = webdriver.Chrome(PATH)\n",
    "driver.get(\"https://www.stm.dk/statsministeren/taler/\")"
   ]
  },
  {
   "cell_type": "code",
   "execution_count": null,
   "id": "external-farmer",
   "metadata": {},
   "outputs": [],
   "source": [
    "links = []\n",
    "'''There is a total of 23 pages, starting at index 1 on the stm. website'''\n",
    "for i in range (1,23,1):    \n",
    "    \n",
    "    '''Start each loop with a delay of 5 seconds, to give the page time to\n",
    "       load'''\n",
    "    time.sleep(5)\n",
    "    \n",
    "    '''Returns text data from website'''\n",
    "    CURRENT_PAGE = driver.page_source\n",
    "    soup = BeautifulSoup(CURRENT_PAGE, \"lxml\")\n",
    "    text = soup.find_all('a')\n",
    "    text\n",
    "\n",
    "    '''Find all the relevant links'''\n",
    "    new_list = []\n",
    "    for element in text:\n",
    "        if '<a href=\"/statsministeren/taler/' in str(element) and 'tabindex' in str(element):\n",
    "            new_list.append(element)\n",
    "\n",
    "    '''Format the links and add them to the links list\n",
    "       the len_value should be 24 for a full page'''\n",
    "    for a in new_list:\n",
    "        a = str(a).split('tabindex')[0][10:]\n",
    "        a = 'http://stm.dk/'+a[:-2]\n",
    "        if a != \"http://stm.dk/statsministeren/taler/\":\n",
    "            links.append(a)\n",
    "    \n",
    "    '''Print a nice output to follow the extraction'''\n",
    "    print('Added',len(new_list)-1,'links to the list, from page:',i)\n",
    "\n",
    "    '''Press the \"next\" button'''\n",
    "    next_button = driver.find_element_by_class_name('next')\n",
    "    next_button.click()\n",
    "    \n",
    "\n",
    "\n",
    "print('\\nThe extraction is now completed')"
   ]
  },
  {
   "cell_type": "code",
   "execution_count": null,
   "id": "running-castle",
   "metadata": {},
   "outputs": [],
   "source": [
    "'''This value should be >= 535'''\n",
    "len(links)"
   ]
  },
  {
   "cell_type": "code",
   "execution_count": null,
   "id": "occasional-england",
   "metadata": {},
   "outputs": [],
   "source": []
  },
  {
   "cell_type": "markdown",
   "id": "split-costume",
   "metadata": {},
   "source": [
    "## Save the links for later use"
   ]
  },
  {
   "cell_type": "code",
   "execution_count": null,
   "id": "baking-organizer",
   "metadata": {},
   "outputs": [],
   "source": [
    "'''Conver the list to a DataFrame for pickling'''\n",
    "import pandas as pd\n",
    "urls = pd.DataFrame({'link' : links})\n",
    "urls"
   ]
  },
  {
   "cell_type": "code",
   "execution_count": null,
   "id": "worst-consideration",
   "metadata": {},
   "outputs": [],
   "source": [
    "'''Saving the DataFrame as a .pkl-file'''\n",
    "import pickle\n",
    "urls.to_pickle(\"selenium_urls_24-3-21.pkl\")"
   ]
  },
  {
   "cell_type": "code",
   "execution_count": 1,
   "id": "defined-complement",
   "metadata": {},
   "outputs": [
    {
     "data": {
      "text/html": [
       "<div>\n",
       "<style scoped>\n",
       "    .dataframe tbody tr th:only-of-type {\n",
       "        vertical-align: middle;\n",
       "    }\n",
       "\n",
       "    .dataframe tbody tr th {\n",
       "        vertical-align: top;\n",
       "    }\n",
       "\n",
       "    .dataframe thead th {\n",
       "        text-align: right;\n",
       "    }\n",
       "</style>\n",
       "<table border=\"1\" class=\"dataframe\">\n",
       "  <thead>\n",
       "    <tr style=\"text-align: right;\">\n",
       "      <th></th>\n",
       "      <th>link</th>\n",
       "    </tr>\n",
       "  </thead>\n",
       "  <tbody>\n",
       "    <tr>\n",
       "      <th>0</th>\n",
       "      <td>http://stm.dk/statsministeren/taler/statsminis...</td>\n",
       "    </tr>\n",
       "    <tr>\n",
       "      <th>1</th>\n",
       "      <td>http://stm.dk/statsministeren/taler/statsminis...</td>\n",
       "    </tr>\n",
       "    <tr>\n",
       "      <th>2</th>\n",
       "      <td>http://stm.dk/statsministeren/taler/statsminis...</td>\n",
       "    </tr>\n",
       "    <tr>\n",
       "      <th>3</th>\n",
       "      <td>http://stm.dk/statsministeren/taler/statsminis...</td>\n",
       "    </tr>\n",
       "    <tr>\n",
       "      <th>4</th>\n",
       "      <td>http://stm.dk/statsministeren/taler/statsminis...</td>\n",
       "    </tr>\n",
       "    <tr>\n",
       "      <th>...</th>\n",
       "      <td>...</td>\n",
       "    </tr>\n",
       "    <tr>\n",
       "      <th>530</th>\n",
       "      <td>http://stm.dk/statsministeren/taler/statsminis...</td>\n",
       "    </tr>\n",
       "    <tr>\n",
       "      <th>531</th>\n",
       "      <td>http://stm.dk/statsministeren/taler/statsminis...</td>\n",
       "    </tr>\n",
       "    <tr>\n",
       "      <th>532</th>\n",
       "      <td>http://stm.dk/statsministeren/taler/internatio...</td>\n",
       "    </tr>\n",
       "    <tr>\n",
       "      <th>533</th>\n",
       "      <td>http://stm.dk/statsministeren/taler/statsminis...</td>\n",
       "    </tr>\n",
       "    <tr>\n",
       "      <th>534</th>\n",
       "      <td>http://stm.dk/statsministeren/taler/speech-at-...</td>\n",
       "    </tr>\n",
       "  </tbody>\n",
       "</table>\n",
       "<p>535 rows × 1 columns</p>\n",
       "</div>"
      ],
      "text/plain": [
       "                                                  link\n",
       "0    http://stm.dk/statsministeren/taler/statsminis...\n",
       "1    http://stm.dk/statsministeren/taler/statsminis...\n",
       "2    http://stm.dk/statsministeren/taler/statsminis...\n",
       "3    http://stm.dk/statsministeren/taler/statsminis...\n",
       "4    http://stm.dk/statsministeren/taler/statsminis...\n",
       "..                                                 ...\n",
       "530  http://stm.dk/statsministeren/taler/statsminis...\n",
       "531  http://stm.dk/statsministeren/taler/statsminis...\n",
       "532  http://stm.dk/statsministeren/taler/internatio...\n",
       "533  http://stm.dk/statsministeren/taler/statsminis...\n",
       "534  http://stm.dk/statsministeren/taler/speech-at-...\n",
       "\n",
       "[535 rows x 1 columns]"
      ]
     },
     "execution_count": 1,
     "metadata": {},
     "output_type": "execute_result"
    }
   ],
   "source": [
    "'''Code for importing the saved .pkl-file'''\n",
    "import pandas as pd\n",
    "import pickle\n",
    "url_corpus = pd.read_pickle('selenium_urls_24-3-21.pkl')\n",
    "url_corpus"
   ]
  },
  {
   "cell_type": "code",
   "execution_count": 3,
   "id": "dietary-stupid",
   "metadata": {},
   "outputs": [
    {
     "data": {
      "text/plain": [
       "'http://stm.dk/statsministeren/taler/statsminister-anders-fogh-rasmussens-tale-ved-folketingets-aabning-tirsdag-den-4-oktober-2005/'"
      ]
     },
     "execution_count": 3,
     "metadata": {},
     "output_type": "execute_result"
    }
   ],
   "source": [
    "url_corpus['link'][321]"
   ]
  }
 ],
 "metadata": {
  "kernelspec": {
   "display_name": "Python 3",
   "language": "python",
   "name": "python3"
  },
  "language_info": {
   "codemirror_mode": {
    "name": "ipython",
    "version": 3
   },
   "file_extension": ".py",
   "mimetype": "text/x-python",
   "name": "python",
   "nbconvert_exporter": "python",
   "pygments_lexer": "ipython3",
   "version": "3.9.1"
  }
 },
 "nbformat": 4,
 "nbformat_minor": 5
}
